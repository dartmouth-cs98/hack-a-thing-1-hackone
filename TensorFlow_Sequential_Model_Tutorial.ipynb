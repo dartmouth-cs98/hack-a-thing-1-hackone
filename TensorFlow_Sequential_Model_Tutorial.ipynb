{
 "cells": [
  {
   "cell_type": "markdown",
   "metadata": {},
   "source": [
    "# Activity 6: Using a Sequential Model"
   ]
  },
  {
   "cell_type": "code",
   "execution_count": 1,
   "metadata": {
    "collapsed": true
   },
   "outputs": [],
   "source": [
    "import tensorflow as tf\n",
    "from tensorflow import keras\n",
    "from tensorflow.keras import layers"
   ]
  },
  {
   "cell_type": "code",
   "execution_count": 10,
   "metadata": {},
   "outputs": [
    {
     "name": "stdout",
     "output_type": "stream",
     "text": [
      "Y: [[ 0.13331424 -0.07491567 -0.22663169 -0.15190166]\n",
      " [ 0.13331424 -0.07491567 -0.22663169 -0.15190166]\n",
      " [ 0.13331424 -0.07491567 -0.22663169 -0.15190166]] \n",
      "Y: [[ 0.3562271   0.0884752  -0.11548308 -0.09347005]\n",
      " [ 0.3562271   0.0884752  -0.11548308 -0.09347005]\n",
      " [ 0.3562271   0.0884752  -0.11548308 -0.09347005]]\n"
     ]
    }
   ],
   "source": [
    "# We use sequential models when we want a stack of layers,\n",
    "# each with one input and one output tensor(array)\n",
    "\n",
    "model = keras.Sequential([\n",
    "    layers.Dense(2, activation = 'relu', name = \"layer1\"),\n",
    "    layers.Dense(3, activation = 'relu', name = \"layer2\"),\n",
    "    layers.Dense(4, name = \"layer3\")\n",
    "])\n",
    "\n",
    "x = tf.ones((3,3))\n",
    "y1 = model(x)\n",
    "\n",
    "# this is equivalent to:\n",
    "# predictions will be different\n",
    "\n",
    "layer1 = layers.Dense(2, activation = 'relu', name = \"layero\")\n",
    "layer2 = layers.Dense(3, activation = 'relu', name = \"layert\")\n",
    "layer3 = layers.Dense(4, name = \"layersth\")\n",
    "\n",
    "y2 = layer3(layer2(layer1(x)))\n",
    "\n",
    "print(\"Y: {} \\nY: {}\".format(y1, y2))"
   ]
  },
  {
   "cell_type": "code",
   "execution_count": 17,
   "metadata": {},
   "outputs": [
    {
     "name": "stdout",
     "output_type": "stream",
     "text": [
      "[<tensorflow.python.keras.layers.core.Dense object at 0x1033c63c8>, <tensorflow.python.keras.layers.core.Dense object at 0x134141518>, <tensorflow.python.keras.layers.core.Dense object at 0x134137080>]\n",
      "\n",
      "\n",
      "[<tensorflow.python.keras.layers.core.Dense object at 0x1033c63c8>, <tensorflow.python.keras.layers.core.Dense object at 0x134141518>]\n"
     ]
    },
    {
     "data": {
      "text/plain": [
       "[]"
      ]
     },
     "execution_count": 17,
     "metadata": {},
     "output_type": "execute_result"
    }
   ],
   "source": [
    "\n",
    "# we can also add layers with the .add() method\n",
    "model = keras.Sequential()\n",
    "model.add(layers.Dense(2, activation = 'relu', name = \"layer1\"))\n",
    "model.add(layers.Dense(3, activation = 'relu', name = \"layer2\"))\n",
    "model.add(layers.Dense(4, name = \"layer3\"))\n",
    "\n",
    "# get layers: \n",
    "print(model.layers)\n",
    "\n",
    "# pop off the last layer. Model layers behave like a list. \n",
    "model.pop()\n",
    "print(\"\\n\\n\" + str(model.layers))\n",
    "\n",
    "# get weights too. Initialized empty\n",
    "model.layers[0].weights"
   ]
  },
  {
   "cell_type": "code",
   "execution_count": 20,
   "metadata": {},
   "outputs": [
    {
     "data": {
      "text/plain": [
       "[<tf.Variable 'layer1/kernel:0' shape=(4, 2) dtype=float32, numpy=\n",
       " array([[-0.1193912 , -0.1624546 ],\n",
       "        [-0.07678819,  0.85056305],\n",
       "        [ 0.20572376, -0.5221989 ],\n",
       "        [ 0.1638124 ,  0.79302096]], dtype=float32)>,\n",
       " <tf.Variable 'layer1/bias:0' shape=(2,) dtype=float32, numpy=array([0., 0.], dtype=float32)>]"
      ]
     },
     "execution_count": 20,
     "metadata": {},
     "output_type": "execute_result"
    }
   ],
   "source": [
    "# change weights from test input\n",
    "x = tf.ones((1,4))\n",
    "y = model.layers[0](x)\n",
    "model.layers[0].weights"
   ]
  },
  {
   "cell_type": "code",
   "execution_count": 26,
   "metadata": {},
   "outputs": [
    {
     "name": "stdout",
     "output_type": "stream",
     "text": [
      "Model: \"sequential_14\"\n",
      "_________________________________________________________________\n",
      "Layer (type)                 Output Shape              Param #   \n",
      "=================================================================\n",
      "layer1 (Dense)               (1, 2)                    10        \n",
      "_________________________________________________________________\n",
      "layer2 (Dense)               (1, 3)                    9         \n",
      "_________________________________________________________________\n",
      "dense (Dense)                (1, 4)                    16        \n",
      "_________________________________________________________________\n",
      "dense_1 (Dense)              (1, 4)                    20        \n",
      "_________________________________________________________________\n",
      "dense_2 (Dense)              (1, 4)                    20        \n",
      "_________________________________________________________________\n",
      "dense_3 (Dense)              (1, 4)                    20        \n",
      "=================================================================\n",
      "Total params: 95\n",
      "Trainable params: 95\n",
      "Non-trainable params: 0\n",
      "_________________________________________________________________\n"
     ]
    }
   ],
   "source": [
    "# model.weights # doesn't work, no weights on every layer but the first yet. \n",
    "\n",
    "y = model(x) # give it a test input\n",
    "\n",
    "# try again\n",
    "model.weights\n",
    "\n",
    "# only two layers since we popped the last layer off. \n",
    "model.add(layers.Dense(4))\n",
    "\n",
    "len(model.weights)\n",
    "\n",
    "model.summary()"
   ]
  },
  {
   "cell_type": "code",
   "execution_count": 27,
   "metadata": {},
   "outputs": [
    {
     "name": "stdout",
     "output_type": "stream",
     "text": [
      "Model: \"sequential_15\"\n",
      "_________________________________________________________________\n",
      "Layer (type)                 Output Shape              Param #   \n",
      "=================================================================\n",
      "dense_4 (Dense)              (None, 2)                 10        \n",
      "=================================================================\n",
      "Total params: 10\n",
      "Trainable params: 10\n",
      "Non-trainable params: 0\n",
      "_________________________________________________________________\n"
     ]
    }
   ],
   "source": [
    "# new model now \n",
    "\n",
    "model = keras.Sequential()\n",
    "\n",
    "model.add(keras.Input(shape=(4,)))\n",
    "model.add(layers.Dense(2, activation = \"relu\"))\n",
    "\n",
    "# model needs to know its input shape before it can give you a summary\n",
    "model.summary()"
   ]
  },
  {
   "cell_type": "code",
   "execution_count": 28,
   "metadata": {},
   "outputs": [
    {
     "name": "stdout",
     "output_type": "stream",
     "text": [
      "Model: \"sequential_16\"\n",
      "_________________________________________________________________\n",
      "Layer (type)                 Output Shape              Param #   \n",
      "=================================================================\n",
      "dense_5 (Dense)              (None, 2)                 10        \n",
      "=================================================================\n",
      "Total params: 10\n",
      "Trainable params: 10\n",
      "Non-trainable params: 0\n",
      "_________________________________________________________________\n"
     ]
    }
   ],
   "source": [
    "# can also just do this\n",
    "model = keras.Sequential()\n",
    "\n",
    "model.add(layers.Dense(2, activation = \"relu\", input_shape = (4,)))\n",
    "\n",
    "# predefining input shape intializes some weights\n",
    "model.summary()"
   ]
  },
  {
   "cell_type": "code",
   "execution_count": 29,
   "metadata": {},
   "outputs": [
    {
     "name": "stdout",
     "output_type": "stream",
     "text": [
      "Model: \"sequential_17\"\n",
      "_________________________________________________________________\n",
      "Layer (type)                 Output Shape              Param #   \n",
      "=================================================================\n",
      "conv2d (Conv2D)              (None, 123, 123, 32)      2432      \n",
      "_________________________________________________________________\n",
      "conv2d_1 (Conv2D)            (None, 121, 121, 32)      9248      \n",
      "_________________________________________________________________\n",
      "max_pooling2d (MaxPooling2D) (None, 40, 40, 32)        0         \n",
      "=================================================================\n",
      "Total params: 11,680\n",
      "Trainable params: 11,680\n",
      "Non-trainable params: 0\n",
      "_________________________________________________________________\n"
     ]
    }
   ],
   "source": [
    "# add layers -> summary -> add layers is a common workflow\n",
    "model = keras.Sequential()\n",
    "model.add(keras.Input(shape=(250, 250, 3)))  # 250x250 RGB images\n",
    "model.add(layers.Conv2D(32, 5, strides=2, activation=\"relu\"))\n",
    "model.add(layers.Conv2D(32, 3, activation=\"relu\"))\n",
    "model.add(layers.MaxPooling2D(3))\n",
    "\n",
    "model.summary()"
   ]
  },
  {
   "cell_type": "code",
   "execution_count": 30,
   "metadata": {},
   "outputs": [
    {
     "name": "stdout",
     "output_type": "stream",
     "text": [
      "Model: \"sequential_17\"\n",
      "_________________________________________________________________\n",
      "Layer (type)                 Output Shape              Param #   \n",
      "=================================================================\n",
      "conv2d (Conv2D)              (None, 123, 123, 32)      2432      \n",
      "_________________________________________________________________\n",
      "conv2d_1 (Conv2D)            (None, 121, 121, 32)      9248      \n",
      "_________________________________________________________________\n",
      "max_pooling2d (MaxPooling2D) (None, 40, 40, 32)        0         \n",
      "_________________________________________________________________\n",
      "conv2d_2 (Conv2D)            (None, 38, 38, 32)        9248      \n",
      "_________________________________________________________________\n",
      "conv2d_3 (Conv2D)            (None, 36, 36, 32)        9248      \n",
      "_________________________________________________________________\n",
      "max_pooling2d_1 (MaxPooling2 (None, 12, 12, 32)        0         \n",
      "_________________________________________________________________\n",
      "conv2d_4 (Conv2D)            (None, 10, 10, 32)        9248      \n",
      "_________________________________________________________________\n",
      "conv2d_5 (Conv2D)            (None, 8, 8, 32)          9248      \n",
      "_________________________________________________________________\n",
      "max_pooling2d_2 (MaxPooling2 (None, 4, 4, 32)          0         \n",
      "=================================================================\n",
      "Total params: 48,672\n",
      "Trainable params: 48,672\n",
      "Non-trainable params: 0\n",
      "_________________________________________________________________\n"
     ]
    }
   ],
   "source": [
    "# again\n",
    "model.add(layers.Conv2D(32, 3, activation=\"relu\"))\n",
    "model.add(layers.Conv2D(32, 3, activation=\"relu\"))\n",
    "model.add(layers.MaxPooling2D(3))\n",
    "model.add(layers.Conv2D(32, 3, activation=\"relu\"))\n",
    "model.add(layers.Conv2D(32, 3, activation=\"relu\"))\n",
    "model.add(layers.MaxPooling2D(2))\n",
    "\n",
    "model.summary()"
   ]
  },
  {
   "cell_type": "code",
   "execution_count": 31,
   "metadata": {},
   "outputs": [
    {
     "name": "stdout",
     "output_type": "stream",
     "text": [
      "Model: \"sequential_17\"\n",
      "_________________________________________________________________\n",
      "Layer (type)                 Output Shape              Param #   \n",
      "=================================================================\n",
      "conv2d (Conv2D)              (None, 123, 123, 32)      2432      \n",
      "_________________________________________________________________\n",
      "conv2d_1 (Conv2D)            (None, 121, 121, 32)      9248      \n",
      "_________________________________________________________________\n",
      "max_pooling2d (MaxPooling2D) (None, 40, 40, 32)        0         \n",
      "_________________________________________________________________\n",
      "conv2d_2 (Conv2D)            (None, 38, 38, 32)        9248      \n",
      "_________________________________________________________________\n",
      "conv2d_3 (Conv2D)            (None, 36, 36, 32)        9248      \n",
      "_________________________________________________________________\n",
      "max_pooling2d_1 (MaxPooling2 (None, 12, 12, 32)        0         \n",
      "_________________________________________________________________\n",
      "conv2d_4 (Conv2D)            (None, 10, 10, 32)        9248      \n",
      "_________________________________________________________________\n",
      "conv2d_5 (Conv2D)            (None, 8, 8, 32)          9248      \n",
      "_________________________________________________________________\n",
      "max_pooling2d_2 (MaxPooling2 (None, 4, 4, 32)          0         \n",
      "_________________________________________________________________\n",
      "global_max_pooling2d (Global (None, 32)                0         \n",
      "=================================================================\n",
      "Total params: 48,672\n",
      "Trainable params: 48,672\n",
      "Non-trainable params: 0\n",
      "_________________________________________________________________\n"
     ]
    }
   ],
   "source": [
    "model.add(layers.GlobalMaxPooling2D())\n",
    "\n",
    "model.summary()"
   ]
  },
  {
   "cell_type": "code",
   "execution_count": 32,
   "metadata": {
    "collapsed": true
   },
   "outputs": [],
   "source": [
    "# add classification layer at end\n",
    "model.add(layers.Dense(10))"
   ]
  },
  {
   "cell_type": "code",
   "execution_count": 35,
   "metadata": {},
   "outputs": [
    {
     "name": "stdout",
     "output_type": "stream",
     "text": [
      "tf.Tensor(\n",
      "[[[[0.14073473 0.1845641  0.         ... 0.15254222 0.01145196\n",
      "    0.        ]\n",
      "   [0.14073473 0.1845641  0.         ... 0.15254222 0.01145196\n",
      "    0.        ]\n",
      "   [0.14073473 0.1845641  0.         ... 0.15254222 0.01145196\n",
      "    0.        ]\n",
      "   ...\n",
      "   [0.14073473 0.1845641  0.         ... 0.15254222 0.01145196\n",
      "    0.        ]\n",
      "   [0.14073473 0.1845641  0.         ... 0.15254222 0.01145196\n",
      "    0.        ]\n",
      "   [0.14073473 0.1845641  0.         ... 0.15254222 0.01145196\n",
      "    0.        ]]\n",
      "\n",
      "  [[0.14073473 0.1845641  0.         ... 0.15254222 0.01145196\n",
      "    0.        ]\n",
      "   [0.14073473 0.1845641  0.         ... 0.15254222 0.01145196\n",
      "    0.        ]\n",
      "   [0.14073473 0.1845641  0.         ... 0.15254222 0.01145196\n",
      "    0.        ]\n",
      "   ...\n",
      "   [0.14073473 0.1845641  0.         ... 0.15254222 0.01145196\n",
      "    0.        ]\n",
      "   [0.14073473 0.1845641  0.         ... 0.15254222 0.01145196\n",
      "    0.        ]\n",
      "   [0.14073473 0.1845641  0.         ... 0.15254222 0.01145196\n",
      "    0.        ]]\n",
      "\n",
      "  [[0.14073473 0.1845641  0.         ... 0.15254222 0.01145196\n",
      "    0.        ]\n",
      "   [0.14073473 0.1845641  0.         ... 0.15254222 0.01145196\n",
      "    0.        ]\n",
      "   [0.14073473 0.1845641  0.         ... 0.15254222 0.01145196\n",
      "    0.        ]\n",
      "   ...\n",
      "   [0.14073473 0.1845641  0.         ... 0.15254222 0.01145196\n",
      "    0.        ]\n",
      "   [0.14073473 0.1845641  0.         ... 0.15254222 0.01145196\n",
      "    0.        ]\n",
      "   [0.14073473 0.1845641  0.         ... 0.15254222 0.01145196\n",
      "    0.        ]]\n",
      "\n",
      "  ...\n",
      "\n",
      "  [[0.14073473 0.1845641  0.         ... 0.15254222 0.01145196\n",
      "    0.        ]\n",
      "   [0.14073473 0.1845641  0.         ... 0.15254222 0.01145196\n",
      "    0.        ]\n",
      "   [0.14073473 0.1845641  0.         ... 0.15254222 0.01145196\n",
      "    0.        ]\n",
      "   ...\n",
      "   [0.14073473 0.1845641  0.         ... 0.15254222 0.01145196\n",
      "    0.        ]\n",
      "   [0.14073473 0.1845641  0.         ... 0.15254222 0.01145196\n",
      "    0.        ]\n",
      "   [0.14073473 0.1845641  0.         ... 0.15254222 0.01145196\n",
      "    0.        ]]\n",
      "\n",
      "  [[0.14073473 0.1845641  0.         ... 0.15254222 0.01145196\n",
      "    0.        ]\n",
      "   [0.14073473 0.1845641  0.         ... 0.15254222 0.01145196\n",
      "    0.        ]\n",
      "   [0.14073473 0.1845641  0.         ... 0.15254222 0.01145196\n",
      "    0.        ]\n",
      "   ...\n",
      "   [0.14073473 0.1845641  0.         ... 0.15254222 0.01145196\n",
      "    0.        ]\n",
      "   [0.14073473 0.1845641  0.         ... 0.15254222 0.01145196\n",
      "    0.        ]\n",
      "   [0.14073473 0.1845641  0.         ... 0.15254222 0.01145196\n",
      "    0.        ]]\n",
      "\n",
      "  [[0.14073473 0.1845641  0.         ... 0.15254222 0.01145196\n",
      "    0.        ]\n",
      "   [0.14073473 0.1845641  0.         ... 0.15254222 0.01145196\n",
      "    0.        ]\n",
      "   [0.14073473 0.1845641  0.         ... 0.15254222 0.01145196\n",
      "    0.        ]\n",
      "   ...\n",
      "   [0.14073473 0.1845641  0.         ... 0.15254226 0.01145196\n",
      "    0.        ]\n",
      "   [0.14073472 0.18456408 0.         ... 0.1525423  0.01145195\n",
      "    0.        ]\n",
      "   [0.14073473 0.18456408 0.         ... 0.15254232 0.01145193\n",
      "    0.        ]]]], shape=(1, 121, 121, 32), dtype=float32)\n"
     ]
    }
   ],
   "source": [
    "# next steps:\n",
    "# train\n",
    "# serialize and save to disk\n",
    "# speed up with multi-GPU training\n",
    "\n",
    "# we can extract features from intermediate layers \n",
    "initial_model = keras.Sequential(\n",
    "    [\n",
    "        keras.Input(shape=(250, 250, 3)),\n",
    "        layers.Conv2D(32, 5, strides=2, activation=\"relu\"),\n",
    "        layers.Conv2D(32, 3, activation=\"relu\", name=\"my_intermediate_layer\"),\n",
    "        layers.Conv2D(32, 3, activation=\"relu\"),\n",
    "    ]\n",
    ")\n",
    "\n",
    "feature_extractor = keras.Model(\n",
    "    inputs=initial_model.inputs,\n",
    "    # just get the outputs from a specific named layer \n",
    "    # see what they are \n",
    "    outputs=initial_model.get_layer(name=\"my_intermediate_layer\").output,\n",
    ")\n",
    "\n",
    "# Call feature extractor on test input.\n",
    "x = tf.ones((1, 250, 250, 3))\n",
    "features = feature_extractor(x)\n",
    "print(features)"
   ]
  },
  {
   "cell_type": "markdown",
   "metadata": {},
   "source": [
    "This tutorial was taken from TensorFlow Core:\n",
    "https://www.tensorflow.org/guide/keras/sequential_model"
   ]
  }
 ],
 "metadata": {
  "kernelspec": {
   "display_name": "Python 3",
   "language": "python",
   "name": "python3"
  },
  "language_info": {
   "codemirror_mode": {
    "name": "ipython",
    "version": 3
   },
   "file_extension": ".py",
   "mimetype": "text/x-python",
   "name": "python",
   "nbconvert_exporter": "python",
   "pygments_lexer": "ipython3",
   "version": "3.6.3"
  }
 },
 "nbformat": 4,
 "nbformat_minor": 2
}
